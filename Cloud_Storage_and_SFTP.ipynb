{
 "cells": [
  {
   "cell_type": "markdown",
   "metadata": {},
   "source": [
    "# COMO SINCRONIZAR O SFTP/FTP AO GOOGLE CLOUD STORAGE?"
   ]
  },
  {
   "cell_type": "markdown",
   "metadata": {},
   "source": [
    "## Utilizando Linux\n"
   ]
  },
  {
   "cell_type": "markdown",
   "metadata": {},
   "source": [
    "url: link = https://medium.com/@carlos-rian/como-sincronizar-o-sftp-ftp-ao-google-cloud-storage-642a69d8005e"
   ]
  },
  {
   "cell_type": "markdown",
   "metadata": {},
   "source": [
    "### Evinar arquivo para SFTP, utilizar comando crontab do Linux para schedular"
   ]
  },
  {
   "cell_type": "code",
   "execution_count": null,
   "metadata": {},
   "outputs": [],
   "source": [
    "#Ambiente prd\n",
    "sshpass -p {SENHA} scp -p 22 /home/In/Out/*.csv {User}@{IP ADRESS 10.00.00.00}:/home/pamroot/\n",
    "\n",
    "#Ambiente dev\n",
    "sshpass -p {SENHA} scp -p 22 /home/ftp_sap_elopar/elopar/mapr_files/*.csv conta_google@10.00.00.00:/home/pamroot/"
   ]
  },
  {
   "cell_type": "markdown",
   "metadata": {},
   "source": [
    "## Utilzando Python "
   ]
  },
  {
   "cell_type": "code",
   "execution_count": 2,
   "metadata": {},
   "outputs": [],
   "source": [
    "from google.cloud import storage\n",
    "import pysftp\n",
    "import paramiko\n",
    "from base64 import decodebytes\n",
    "import socket"
   ]
  },
  {
   "cell_type": "code",
   "execution_count": null,
   "metadata": {},
   "outputs": [],
   "source": [
    "#Client storage\n",
    "client = storage.Client()"
   ]
  },
  {
   "cell_type": "code",
   "execution_count": null,
   "metadata": {},
   "outputs": [],
   "source": [
    "#Download do arquivo no Storage\n",
    "def gcs_download(obj, to, bucket_name):\n",
    "    bucket = client.get_bucket(bucket_name)\n",
    "    blob = bucket.blob(obj)\n",
    "    blob.download_to_filename(to)\n",
    "    print('download file {} to {}'.format(obj, to))"
   ]
  },
  {
   "cell_type": "code",
   "execution_count": null,
   "metadata": {},
   "outputs": [],
   "source": [
    "host = '{servidor@exemplo.com.br}'\n",
    "port = 22\n",
    "username = 'conta_google_exemplo'\n",
    "password = \"SenhaExemplo@123\"\n",
    "\n",
    "# Chave SSH\n",
    "keydata = b\"\"\"CHAVE SSH RSA\"\"\"\n",
    "key = paramiko.RSAKey(data=decodebytes(keydata))\n",
    "cnopts = pysftp.CnOpts()\n",
    "cnopts.hostkeys.add(host, 'ssh-rsa', key)\n",
    "\n",
    "with pysftp.Connection(host=host, username=username,password=password, port=port, cnopts=cnopts) as sftp:\n",
    "        # upload file to public/ on remote\n",
    "        sftp.put('C://Users/Downloads/arquivo_exemplo.csv', '/home/pamroot/arquivo_exemplo.csv.csv')  \n",
    "        sftp.close()"
   ]
  }
 ],
 "metadata": {
  "interpreter": {
   "hash": "f9e9e58e6875122a0e09da6324e4b775abb8b7ccf2bb865d76f8afafb77cfede"
  },
  "kernelspec": {
   "display_name": "Python 3.10.0 64-bit",
   "language": "python",
   "name": "python3"
  },
  "language_info": {
   "codemirror_mode": {
    "name": "ipython",
    "version": 3
   },
   "file_extension": ".py",
   "mimetype": "text/x-python",
   "name": "python",
   "nbconvert_exporter": "python",
   "pygments_lexer": "ipython3",
   "version": "3.10.0"
  },
  "orig_nbformat": 4
 },
 "nbformat": 4,
 "nbformat_minor": 2
}
